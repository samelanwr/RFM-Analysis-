{
 "cells": [
  {
   "cell_type": "code",
   "execution_count": 1,
   "id": "0dde3d1e",
   "metadata": {},
   "outputs": [],
   "source": [
    "import streamlit as st"
   ]
  },
  {
   "cell_type": "code",
   "execution_count": 4,
   "id": "6e2f3f13",
   "metadata": {},
   "outputs": [
    {
     "name": "stdout",
     "output_type": "stream",
     "text": [
      "Overwriting app.py\n"
     ]
    }
   ],
   "source": [
    "%%writefile app.py\n",
    "import pandas as pd \n",
    "import numpy as np \n",
    "import streamlit as st\n",
    "import joblib\n",
    "\n",
    "Model = joblib.load('Model.h5')\n",
    "\n",
    "st.title('Customer Segmentation ')\n",
    "st.info('(Recency): Number of days since last purchase')\n",
    "st.info('(Frequency): Number of tracsactions')\n",
    "st.info('(Monetary): Total amount of transactions ')\n",
    "st.image('rfmgf.png')\n",
    "          \n",
    "\n",
    "\n",
    "def Predict(Recency,Frequancy,Monetary):\n",
    "    \n",
    "    \n",
    "    test = pd.DataFrame(data=[ [Recency,Frequancy,Monetary] ] , \n",
    "                       columns=['Recency','Frequancy','Monetary'])\n",
    "    \n",
    "    return Model.predict(test)\n",
    "\n",
    "\n",
    "def main():\n",
    "    Recency= st.slider(f'Select Recency ', min_value = 0.0, max_value = 1165.0, step = 1.0 )\n",
    "    \n",
    "    Frequancy= st.slider(f'Select Frequancy ', min_value = 1.0, max_value = 35.0, step = 1.0)\n",
    "    \n",
    "    Monetary= st.slider(f'Select Monetary ', min_value = 4.0, max_value = 25045.0, step = 10.0 )\n",
    "    \n",
    "    if st.button('Predict'):\n",
    "        \n",
    "        reply = Predict(Recency,Frequancy,Monetary)\n",
    "        st.write(reply)\n",
    "        \n",
    "main()     \n",
    "\n"
   ]
  },
  {
   "cell_type": "code",
   "execution_count": 5,
   "id": "fbee5c6f",
   "metadata": {},
   "outputs": [
    {
     "name": "stdout",
     "output_type": "stream",
     "text": [
      "^C\n"
     ]
    }
   ],
   "source": [
    "! streamlit run app.py"
   ]
  },
  {
   "cell_type": "code",
   "execution_count": null,
   "id": "57bbc862",
   "metadata": {},
   "outputs": [],
   "source": []
  }
 ],
 "metadata": {
  "kernelspec": {
   "display_name": "Python 3 (ipykernel)",
   "language": "python",
   "name": "python3"
  },
  "language_info": {
   "codemirror_mode": {
    "name": "ipython",
    "version": 3
   },
   "file_extension": ".py",
   "mimetype": "text/x-python",
   "name": "python",
   "nbconvert_exporter": "python",
   "pygments_lexer": "ipython3",
   "version": "3.11.5"
  }
 },
 "nbformat": 4,
 "nbformat_minor": 5
}
